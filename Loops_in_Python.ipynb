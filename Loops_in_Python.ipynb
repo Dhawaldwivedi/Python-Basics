{
  "nbformat": 4,
  "nbformat_minor": 0,
  "metadata": {
    "colab": {
      "provenance": [],
      "authorship_tag": "ABX9TyOmr4l7j6haVN+S84idhtaT",
      "include_colab_link": true
    },
    "kernelspec": {
      "name": "python3",
      "display_name": "Python 3"
    },
    "language_info": {
      "name": "python"
    }
  },
  "cells": [
    {
      "cell_type": "markdown",
      "metadata": {
        "id": "view-in-github",
        "colab_type": "text"
      },
      "source": [
        "<a href=\"https://colab.research.google.com/github/Dhawaldwivedi/Python-Basics/blob/main/Loops_in_Python.ipynb\" target=\"_parent\"><img src=\"https://colab.research.google.com/assets/colab-badge.svg\" alt=\"Open In Colab\"/></a>"
      ]
    },
    {
      "cell_type": "code",
      "execution_count": null,
      "metadata": {
        "colab": {
          "base_uri": "https://localhost:8080/"
        },
        "id": "PeRuupU6McxZ",
        "outputId": "27002193-7a06-4bd6-909e-54aa44eb2046"
      },
      "outputs": [
        {
          "output_type": "stream",
          "name": "stdout",
          "text": [
            "1\n",
            "2\n",
            "3\n",
            "4\n",
            "5\n",
            "6\n",
            "7\n",
            "8\n",
            "9\n",
            "10\n"
          ]
        }
      ],
      "source": [
        "print('1')\n",
        "print('2')\n",
        "print('3')\n",
        "print('4')\n",
        "print('5')\n",
        "print('6')\n",
        "print('7')\n",
        "print('8')\n",
        "print('9')\n",
        "print('10')"
      ]
    },
    {
      "cell_type": "code",
      "source": [
        "# for loop\n",
        "for i in range(5):\n",
        "  print(i)"
      ],
      "metadata": {
        "colab": {
          "base_uri": "https://localhost:8080/"
        },
        "id": "I3o38-50My7D",
        "outputId": "b4d222ac-992d-430c-c444-1bd0eb6b4b3a"
      },
      "execution_count": null,
      "outputs": [
        {
          "output_type": "stream",
          "name": "stdout",
          "text": [
            "0\n",
            "1\n",
            "2\n",
            "3\n",
            "4\n"
          ]
        }
      ]
    },
    {
      "cell_type": "code",
      "source": [
        "for i in range(1,11):\n",
        "  print(i)"
      ],
      "metadata": {
        "colab": {
          "base_uri": "https://localhost:8080/"
        },
        "id": "dz1aafAvN1hA",
        "outputId": "de61cb2b-a293-40d3-d1b8-d37187444fa5"
      },
      "execution_count": null,
      "outputs": [
        {
          "output_type": "stream",
          "name": "stdout",
          "text": [
            "1\n",
            "2\n",
            "3\n",
            "4\n",
            "5\n",
            "6\n",
            "7\n",
            "8\n",
            "9\n",
            "10\n"
          ]
        }
      ]
    },
    {
      "cell_type": "code",
      "source": [
        "for i in range(1,11,3):\n",
        "  print(i)"
      ],
      "metadata": {
        "colab": {
          "base_uri": "https://localhost:8080/"
        },
        "id": "504_4Z3MOnZj",
        "outputId": "0265b805-9d8e-40d1-9e5a-f6a9e2768fdf"
      },
      "execution_count": null,
      "outputs": [
        {
          "output_type": "stream",
          "name": "stdout",
          "text": [
            "1\n",
            "4\n",
            "7\n",
            "10\n"
          ]
        }
      ]
    },
    {
      "cell_type": "code",
      "source": [
        "# range(starting value , end value-1, step size)\n",
        "for i in range(5,0,-1):\n",
        "  print(i)"
      ],
      "metadata": {
        "colab": {
          "base_uri": "https://localhost:8080/"
        },
        "id": "tUZMG9sJPKC0",
        "outputId": "a5522472-d0f6-4382-d955-5a694c8fdb16"
      },
      "execution_count": null,
      "outputs": [
        {
          "output_type": "stream",
          "name": "stdout",
          "text": [
            "5\n",
            "4\n",
            "3\n",
            "2\n",
            "1\n"
          ]
        }
      ]
    },
    {
      "cell_type": "code",
      "source": [
        "# strings\n",
        "s = \"Dhawal Dwivedi\"\n",
        "for i in s:\n",
        "  print(i)"
      ],
      "metadata": {
        "colab": {
          "base_uri": "https://localhost:8080/"
        },
        "id": "bGQYsf2BPqbg",
        "outputId": "9e2d6c6b-8df0-4757-d61d-e3ff17c83ed9"
      },
      "execution_count": null,
      "outputs": [
        {
          "output_type": "stream",
          "name": "stdout",
          "text": [
            "D\n",
            "h\n",
            "a\n",
            "w\n",
            "a\n",
            "l\n",
            " \n",
            "D\n",
            "w\n",
            "i\n",
            "v\n",
            "e\n",
            "d\n",
            "i\n"
          ]
        }
      ]
    },
    {
      "cell_type": "code",
      "source": [
        "# print the table of 17 using for loops\n",
        "for i in range(17,171,17):\n",
        "  print(i)\n"
      ],
      "metadata": {
        "colab": {
          "base_uri": "https://localhost:8080/"
        },
        "id": "88YJea7zQxNE",
        "outputId": "299d5fe7-5985-4050-ec8e-95bbedd43451"
      },
      "execution_count": null,
      "outputs": [
        {
          "output_type": "stream",
          "name": "stdout",
          "text": [
            "17\n",
            "34\n",
            "51\n",
            "68\n",
            "85\n",
            "102\n",
            "119\n",
            "136\n",
            "153\n",
            "170\n"
          ]
        }
      ]
    },
    {
      "cell_type": "code",
      "source": [
        "for i in range(170,16,-17):\n",
        "  print(i)"
      ],
      "metadata": {
        "colab": {
          "base_uri": "https://localhost:8080/"
        },
        "id": "byqb_S8vSciR",
        "outputId": "8c55b0bf-95d7-4d8c-8e4f-e448eb66f955"
      },
      "execution_count": null,
      "outputs": [
        {
          "output_type": "stream",
          "name": "stdout",
          "text": [
            "170\n",
            "153\n",
            "136\n",
            "119\n",
            "102\n",
            "85\n",
            "68\n",
            "51\n",
            "34\n",
            "17\n"
          ]
        }
      ]
    },
    {
      "cell_type": "code",
      "source": [
        "# break statement\n",
        "for i in range(10):\n",
        "  if i==5:\n",
        "    break\n",
        "  print(i)"
      ],
      "metadata": {
        "colab": {
          "base_uri": "https://localhost:8080/"
        },
        "id": "wcrvitYVSnPW",
        "outputId": "20eab40b-c3e5-4ca0-ab95-26defc265e01"
      },
      "execution_count": null,
      "outputs": [
        {
          "output_type": "stream",
          "name": "stdout",
          "text": [
            "0\n",
            "1\n",
            "2\n",
            "3\n",
            "4\n"
          ]
        }
      ]
    },
    {
      "cell_type": "code",
      "source": [
        "# continue\n",
        "for i in range(10):\n",
        "  if i==5:\n",
        "    continue\n",
        "  print(i)"
      ],
      "metadata": {
        "colab": {
          "base_uri": "https://localhost:8080/"
        },
        "id": "KGnQ2mUBU_aI",
        "outputId": "332a6f14-5a6a-4380-e7ab-0423aa3d6244"
      },
      "execution_count": null,
      "outputs": [
        {
          "output_type": "stream",
          "name": "stdout",
          "text": [
            "0\n",
            "1\n",
            "2\n",
            "3\n",
            "4\n",
            "6\n",
            "7\n",
            "8\n",
            "9\n"
          ]
        }
      ]
    },
    {
      "cell_type": "code",
      "source": [
        "# calculate sum of first N natural numbers using for loop\n",
        "# 0=0+0 =0\n",
        "# 0+1 = 1\n",
        "# 1+2= 3\n",
        "n= 1\n",
        "sum=0\n",
        "for i in range(2):\n",
        "  sum = sum + i\n",
        "\n",
        "print(sum)"
      ],
      "metadata": {
        "colab": {
          "base_uri": "https://localhost:8080/"
        },
        "id": "wsO82a9TVOUn",
        "outputId": "6ff57240-9ae7-4689-c28f-56cf074f9b47"
      },
      "execution_count": null,
      "outputs": [
        {
          "output_type": "stream",
          "name": "stdout",
          "text": [
            "1\n"
          ]
        }
      ]
    },
    {
      "cell_type": "code",
      "source": [
        "n= 2\n",
        "sum=0\n",
        "for i in range(3):\n",
        "  sum = sum + i\n",
        "\n",
        "print(sum)"
      ],
      "metadata": {
        "colab": {
          "base_uri": "https://localhost:8080/"
        },
        "id": "mBG2C1HWXMY6",
        "outputId": "fa6709e9-49dc-49ef-e871-d2935e7277cc"
      },
      "execution_count": null,
      "outputs": [
        {
          "output_type": "stream",
          "name": "stdout",
          "text": [
            "3\n"
          ]
        }
      ]
    },
    {
      "cell_type": "code",
      "source": [
        "n= 3\n",
        "sum=0\n",
        "for i in range(4):\n",
        "  sum = sum + i\n",
        "\n",
        "print(sum)"
      ],
      "metadata": {
        "colab": {
          "base_uri": "https://localhost:8080/"
        },
        "id": "qjF3fISLX6_B",
        "outputId": "5ed11264-9d86-414c-abd1-d590bbb59785"
      },
      "execution_count": null,
      "outputs": [
        {
          "output_type": "stream",
          "name": "stdout",
          "text": [
            "6\n"
          ]
        }
      ]
    },
    {
      "cell_type": "code",
      "source": [
        "n= 4\n",
        "sum=0\n",
        "for i in range(5):\n",
        "  sum = sum + i\n",
        "\n",
        "print(sum)"
      ],
      "metadata": {
        "colab": {
          "base_uri": "https://localhost:8080/"
        },
        "id": "BlpZhCa0X-av",
        "outputId": "543b9882-a732-48cf-bc9f-d20cd95a7f50"
      },
      "execution_count": null,
      "outputs": [
        {
          "output_type": "stream",
          "name": "stdout",
          "text": [
            "10\n"
          ]
        }
      ]
    },
    {
      "cell_type": "code",
      "source": [
        "n=10000\n",
        "sum=0\n",
        "for i in range(10001):\n",
        "  sum = sum + i\n",
        "\n",
        "print(sum)"
      ],
      "metadata": {
        "colab": {
          "base_uri": "https://localhost:8080/"
        },
        "id": "9zPk3bniYJY1",
        "outputId": "40a95db9-68fc-4893-df81-ae9096326663"
      },
      "execution_count": null,
      "outputs": [
        {
          "output_type": "stream",
          "name": "stdout",
          "text": [
            "50005000\n"
          ]
        }
      ]
    },
    {
      "cell_type": "code",
      "source": [
        "# 1, 3, 6, 10 , 15 n(n+1)/2\n",
        "n= int(input(\"enter the number \"))\n",
        "sum = n*(n+1)/2\n",
        "print(sum)"
      ],
      "metadata": {
        "colab": {
          "base_uri": "https://localhost:8080/"
        },
        "id": "amXKmcS0YCCo",
        "outputId": "003d86a8-854b-4ce5-db90-3cfb104b8a1a"
      },
      "execution_count": null,
      "outputs": [
        {
          "output_type": "stream",
          "name": "stdout",
          "text": [
            "enter the number 10000000\n",
            "50000005000000.0\n"
          ]
        }
      ]
    },
    {
      "cell_type": "markdown",
      "source": [
        "Write a program to reverse a string using for loop"
      ],
      "metadata": {
        "id": "14R4BUSUNCDg"
      }
    },
    {
      "cell_type": "code",
      "source": [
        "s= \"gfg\"\n",
        "rev_s= \"\"\n",
        "for i in s:\n",
        "  rev_s = i + rev_s\n",
        "\n",
        "print(rev_s)\n",
        "\n",
        "# palindrome\n",
        "# gfg\n",
        "if s==rev_s:\n",
        "  print(\"palindrome\")\n",
        "else:\n",
        "  print(\"not a palindrome\")"
      ],
      "metadata": {
        "colab": {
          "base_uri": "https://localhost:8080/"
        },
        "id": "vUESnwLGNIvb",
        "outputId": "d034613d-48d0-4b44-dc7d-2a0d4fed7154"
      },
      "execution_count": null,
      "outputs": [
        {
          "output_type": "stream",
          "name": "stdout",
          "text": [
            "gfg\n",
            "palindrome\n"
          ]
        }
      ]
    },
    {
      "cell_type": "markdown",
      "source": [
        "Check if a number is prime or not using loops"
      ],
      "metadata": {
        "id": "TlW8wiN4NKUo"
      }
    },
    {
      "cell_type": "code",
      "source": [
        "num = int(input(\"enter the number \"))\n",
        "if(num==1):\n",
        "  print(\"unique number\")\n",
        "\n",
        "else:\n",
        "  flag = True\n",
        "  for i in range(2,num):\n",
        "    if num%i==0:\n",
        "      flag = False\n",
        "\n",
        "      break\n",
        "\n",
        "if flag==True:\n",
        "  print('its a prime')\n",
        "else:\n",
        "  print('not a prime')\n",
        "\n",
        "\n",
        "\n"
      ],
      "metadata": {
        "colab": {
          "base_uri": "https://localhost:8080/"
        },
        "id": "ErUsfDJRNS2C",
        "outputId": "5ecb6397-c6ef-419e-9259-f31edadef770"
      },
      "execution_count": null,
      "outputs": [
        {
          "output_type": "stream",
          "name": "stdout",
          "text": [
            "enter the number 9\n",
            "not a prime\n"
          ]
        }
      ]
    },
    {
      "cell_type": "markdown",
      "source": [
        "Write a program to find factorial of a number using loops only"
      ],
      "metadata": {
        "id": "M4ZmIN70NiSR"
      }
    },
    {
      "cell_type": "code",
      "source": [
        "# 5! - 5*4*3*2*1 (120)\n",
        "#\n",
        "num = int(input(\"enter a number \"))\n",
        "fact = 1\n",
        "for i in range(num,0,-1):\n",
        "  fact = fact*i\n",
        "\n",
        "print(fact)\n"
      ],
      "metadata": {
        "colab": {
          "base_uri": "https://localhost:8080/"
        },
        "id": "aX_J65sSNrhc",
        "outputId": "3b959e9c-7aef-423d-952d-ada6cecb789f"
      },
      "execution_count": null,
      "outputs": [
        {
          "output_type": "stream",
          "name": "stdout",
          "text": [
            "enter a number 5\n",
            "120\n"
          ]
        }
      ]
    },
    {
      "cell_type": "code",
      "source": [
        "# nested loops\n",
        "for i in range(3):\n",
        "  for j in range(2):\n",
        "    print(f\"i:{i} , j:{j}\")\n"
      ],
      "metadata": {
        "id": "ENFlBN-wYhbj",
        "colab": {
          "base_uri": "https://localhost:8080/"
        },
        "outputId": "ec7fb7d3-46ac-4c02-a9bc-8c2fa614dd4a"
      },
      "execution_count": 16,
      "outputs": [
        {
          "output_type": "stream",
          "name": "stdout",
          "text": [
            "i:0 , j:0\n",
            "i:0 , j:1\n",
            "i:1 , j:0\n",
            "i:1 , j:1\n",
            "i:2 , j:0\n",
            "i:2 , j:1\n"
          ]
        }
      ]
    },
    {
      "cell_type": "code",
      "source": [
        "# find all prime numbers between 1 to 50\n",
        "for i in range(2,51):\n",
        "  for j in range(2,i):\n",
        "    if i%j==0:\n",
        "      break\n",
        "  else:\n",
        "    print(i)\n",
        "\n",
        "\n",
        "\n"
      ],
      "metadata": {
        "id": "HefMh03bXzVf",
        "colab": {
          "base_uri": "https://localhost:8080/"
        },
        "outputId": "27e3b2b4-b6f7-4b49-b58d-e784c07ff670"
      },
      "execution_count": 18,
      "outputs": [
        {
          "output_type": "stream",
          "name": "stdout",
          "text": [
            "2\n",
            "3\n",
            "5\n",
            "7\n",
            "11\n",
            "13\n",
            "17\n",
            "19\n",
            "23\n",
            "29\n",
            "31\n",
            "37\n",
            "41\n",
            "43\n",
            "47\n"
          ]
        }
      ]
    },
    {
      "cell_type": "markdown",
      "source": [
        "outer loop - controls the number of rows ina pattern\n",
        "\n",
        "inner loop - executes the condition in each row"
      ],
      "metadata": {
        "id": "U9-lv1DvIPAz"
      }
    },
    {
      "cell_type": "code",
      "source": [
        "# pattern printing\n",
        "for i in range(5):\n",
        "  for j in range(5):\n",
        "    print(\"*\",end = \"\")\n",
        "  print()"
      ],
      "metadata": {
        "id": "Z2NxYD95hRb5",
        "colab": {
          "base_uri": "https://localhost:8080/"
        },
        "outputId": "7a390653-8b89-455f-842f-24be2a18f307"
      },
      "execution_count": 25,
      "outputs": [
        {
          "output_type": "stream",
          "name": "stdout",
          "text": [
            "*****\n",
            "*****\n",
            "*****\n",
            "*****\n",
            "*****\n"
          ]
        }
      ]
    },
    {
      "cell_type": "markdown",
      "source": [
        "*\n",
        "* *\n",
        "* * *\n",
        "* * * *\n",
        "* * * * *\n"
      ],
      "metadata": {
        "id": "2XO2n8hKJGA7"
      }
    },
    {
      "cell_type": "code",
      "source": [
        "for i in range(6):\n",
        "  for j in range(i):\n",
        "    print(\"*\",end = \"\")\n",
        "  print()\n",
        "\n",
        "# i =1 ,"
      ],
      "metadata": {
        "colab": {
          "base_uri": "https://localhost:8080/"
        },
        "id": "fGvm-YMdIuup",
        "outputId": "360bfb08-8c5b-4fc9-9f40-7eca36eb8f25"
      },
      "execution_count": 27,
      "outputs": [
        {
          "output_type": "stream",
          "name": "stdout",
          "text": [
            "\n",
            "*\n",
            "**\n",
            "***\n",
            "****\n",
            "*****\n"
          ]
        }
      ]
    },
    {
      "cell_type": "code",
      "source": [
        "# inverted triangle\n",
        "for i in range(5,0,-1):\n",
        "  for j in range(i):\n",
        "    print(\"*\",end = \"\")\n",
        "  print()\n"
      ],
      "metadata": {
        "colab": {
          "base_uri": "https://localhost:8080/"
        },
        "id": "S_QC-JcMLE8F",
        "outputId": "5675291d-6f44-4d3a-daa3-df00684950bb"
      },
      "execution_count": 32,
      "outputs": [
        {
          "output_type": "stream",
          "name": "stdout",
          "text": [
            "*****\n",
            "****\n",
            "***\n",
            "**\n",
            "*\n"
          ]
        }
      ]
    },
    {
      "cell_type": "markdown",
      "source": [
        "for i range(5):\n",
        "   count =5\n",
        "   print(i*)\n",
        "   count = count-1"
      ],
      "metadata": {
        "id": "FtKER6zqMieQ"
      }
    },
    {
      "cell_type": "code",
      "source": [
        "for i in range(5,0,-1):\n",
        "  print(\"*\"*i)"
      ],
      "metadata": {
        "colab": {
          "base_uri": "https://localhost:8080/"
        },
        "id": "TdgZirwwNWto",
        "outputId": "e1aadd5c-31f2-40a6-f75e-04c1bf2c31cb"
      },
      "execution_count": 33,
      "outputs": [
        {
          "output_type": "stream",
          "name": "stdout",
          "text": [
            "*****\n",
            "****\n",
            "***\n",
            "**\n",
            "*\n"
          ]
        }
      ]
    },
    {
      "cell_type": "markdown",
      "source": [
        "1\n",
        "1 2\n",
        "1 2 3\n",
        "1 2 3 4"
      ],
      "metadata": {
        "id": "-R2MUAhANq_X"
      }
    },
    {
      "cell_type": "code",
      "source": [
        "for i in range(1,5):                       # 2\n",
        "  for j in range(1,i+1):                   # (1,3)\n",
        "    print(j,end = \"\")                      # j\n",
        "  print()\n"
      ],
      "metadata": {
        "colab": {
          "base_uri": "https://localhost:8080/"
        },
        "id": "rk7wYpIDOeNK",
        "outputId": "1384a6cf-a562-4059-82e6-1ccd74b561ed"
      },
      "execution_count": 34,
      "outputs": [
        {
          "output_type": "stream",
          "name": "stdout",
          "text": [
            "1\n",
            "12\n",
            "123\n",
            "1234\n"
          ]
        }
      ]
    },
    {
      "cell_type": "code",
      "source": [
        "# reverse number pattern\n",
        "for i in range(4,0,-1):\n",
        "  for j in range(i,0,-1):\n",
        "    print(j,end = \"\")                      # j\n",
        "  print()"
      ],
      "metadata": {
        "colab": {
          "base_uri": "https://localhost:8080/"
        },
        "id": "Tfm36RgTPH01",
        "outputId": "e48edaf9-22dc-4ed2-831d-d9fae2f4f99b"
      },
      "execution_count": 35,
      "outputs": [
        {
          "output_type": "stream",
          "name": "stdout",
          "text": [
            "4321\n",
            "321\n",
            "21\n",
            "1\n"
          ]
        }
      ]
    }
  ]
}