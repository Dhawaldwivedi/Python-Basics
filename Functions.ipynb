{
  "nbformat": 4,
  "nbformat_minor": 0,
  "metadata": {
    "colab": {
      "provenance": [],
      "authorship_tag": "ABX9TyOmIpgWavLz+mCZXTkjprH6",
      "include_colab_link": true
    },
    "kernelspec": {
      "name": "python3",
      "display_name": "Python 3"
    },
    "language_info": {
      "name": "python"
    }
  },
  "cells": [
    {
      "cell_type": "markdown",
      "metadata": {
        "id": "view-in-github",
        "colab_type": "text"
      },
      "source": [
        "<a href=\"https://colab.research.google.com/github/Dhawaldwivedi/Python-Basics/blob/main/Functions.ipynb\" target=\"_parent\"><img src=\"https://colab.research.google.com/assets/colab-badge.svg\" alt=\"Open In Colab\"/></a>"
      ]
    },
    {
      "cell_type": "code",
      "execution_count": 2,
      "metadata": {
        "colab": {
          "base_uri": "https://localhost:8080/"
        },
        "id": "sDokrK21FeW2",
        "outputId": "cba6636b-f86f-41b7-83bd-512b4581cd5f"
      },
      "outputs": [
        {
          "output_type": "stream",
          "name": "stdout",
          "text": [
            "hello\n",
            "hello\n",
            "hello\n",
            "hello\n",
            "hello\n",
            "hello\n",
            "hello\n",
            "hello\n",
            "hello\n"
          ]
        }
      ],
      "source": [
        "for i in range(1,10):\n",
        "  print('hello')"
      ]
    },
    {
      "cell_type": "code",
      "source": [
        "print('hello')"
      ],
      "metadata": {
        "colab": {
          "base_uri": "https://localhost:8080/"
        },
        "id": "v1vXljISHZ54",
        "outputId": "f0923757-8d81-4fdd-9191-2d862a5b3cbf"
      },
      "execution_count": 3,
      "outputs": [
        {
          "output_type": "stream",
          "name": "stdout",
          "text": [
            "hello\n"
          ]
        }
      ]
    },
    {
      "cell_type": "code",
      "source": [
        "# function definition\n",
        "def fun():\n",
        "  print('hello')\n"
      ],
      "metadata": {
        "id": "9j-57V-0HeFW"
      },
      "execution_count": 5,
      "outputs": []
    },
    {
      "cell_type": "code",
      "source": [
        "#function calling\n",
        "fun()\n",
        "fun()"
      ],
      "metadata": {
        "colab": {
          "base_uri": "https://localhost:8080/"
        },
        "id": "DKm-5W_sIF8H",
        "outputId": "4b895a07-7e3b-4dab-e105-ec6b0e297921"
      },
      "execution_count": 7,
      "outputs": [
        {
          "output_type": "stream",
          "name": "stdout",
          "text": [
            "hello\n",
            "hello\n"
          ]
        }
      ]
    },
    {
      "cell_type": "code",
      "source": [
        "def fun1():              # user defined\n",
        "  for i in range(1,10):\n",
        "    print('hello')\n",
        "\n",
        "fun1()\n",
        ""
      ],
      "metadata": {
        "colab": {
          "base_uri": "https://localhost:8080/"
        },
        "id": "pKjwJnk2II8v",
        "outputId": "8ebc228d-1e2d-4aae-ead2-e14017375066"
      },
      "execution_count": 8,
      "outputs": [
        {
          "output_type": "stream",
          "name": "stdout",
          "text": [
            "hello\n",
            "hello\n",
            "hello\n",
            "hello\n",
            "hello\n",
            "hello\n",
            "hello\n",
            "hello\n",
            "hello\n"
          ]
        }
      ]
    },
    {
      "cell_type": "code",
      "source": [
        "fun1()"
      ],
      "metadata": {
        "colab": {
          "base_uri": "https://localhost:8080/"
        },
        "id": "FiJokiBAIbhH",
        "outputId": "4223f132-5971-4e65-a137-07a9ebe77cb5"
      },
      "execution_count": 9,
      "outputs": [
        {
          "output_type": "stream",
          "name": "stdout",
          "text": [
            "hello\n",
            "hello\n",
            "hello\n",
            "hello\n",
            "hello\n",
            "hello\n",
            "hello\n",
            "hello\n",
            "hello\n"
          ]
        }
      ]
    },
    {
      "cell_type": "code",
      "source": [
        "# types of function\n",
        "# default function\n",
        "# print function , input() , len() , sqrt()\n"
      ],
      "metadata": {
        "id": "FVqeMgETId5q"
      },
      "execution_count": 10,
      "outputs": []
    },
    {
      "cell_type": "code",
      "source": [
        "# local and global value of a function\n",
        "b=3               # global value\n",
        "def func():\n",
        "  a= 2             # local value\n",
        "\n",
        "\n",
        "print(b)\n"
      ],
      "metadata": {
        "colab": {
          "base_uri": "https://localhost:8080/"
        },
        "id": "rhl98u32J0cL",
        "outputId": "2981cfea-7e95-4e27-ac26-762a17f98f2a"
      },
      "execution_count": 13,
      "outputs": [
        {
          "output_type": "stream",
          "name": "stdout",
          "text": [
            "3\n"
          ]
        }
      ]
    },
    {
      "cell_type": "code",
      "source": [
        "def fun():\n",
        "  print('hello')\n",
        "\n",
        "\n",
        "fun()\n",
        "def fun():\n",
        "  print('hey')\n",
        "\n",
        "fun()"
      ],
      "metadata": {
        "colab": {
          "base_uri": "https://localhost:8080/"
        },
        "id": "X59TohPjKHUl",
        "outputId": "7e6e6d62-afee-4b09-fbc1-039b2d01b08b"
      },
      "execution_count": 41,
      "outputs": [
        {
          "output_type": "stream",
          "name": "stdout",
          "text": [
            "hello\n",
            "hey\n"
          ]
        }
      ]
    },
    {
      "cell_type": "code",
      "source": [
        "fun()"
      ],
      "metadata": {
        "colab": {
          "base_uri": "https://localhost:8080/"
        },
        "id": "iXwoWysUK1Yb",
        "outputId": "e942acb0-baa7-4e33-b1e3-39ec53ffe0e7"
      },
      "execution_count": 16,
      "outputs": [
        {
          "output_type": "stream",
          "name": "stdout",
          "text": [
            "hey\n"
          ]
        }
      ]
    },
    {
      "cell_type": "code",
      "source": [
        "# parameters in a function\n",
        "def fun(name,age):\n",
        "  print(f\"hello, {name},{age}\")\n",
        "\n",
        "fun(\"dhawal\",22)"
      ],
      "metadata": {
        "colab": {
          "base_uri": "https://localhost:8080/"
        },
        "id": "JKqyEPgdLN4t",
        "outputId": "5eac5239-9cbf-4216-a96f-9f6bea33552c"
      },
      "execution_count": 19,
      "outputs": [
        {
          "output_type": "stream",
          "name": "stdout",
          "text": [
            "hello, dhawal,22\n"
          ]
        }
      ]
    },
    {
      "cell_type": "code",
      "source": [
        "# return statement\n",
        "def add(a,b,c):\n",
        "  return a-b+c\n",
        "\n",
        "add(3,4,7)"
      ],
      "metadata": {
        "colab": {
          "base_uri": "https://localhost:8080/"
        },
        "id": "QfZPSbyoLyvR",
        "outputId": "59fbae1d-3dbb-4b93-e0a0-68d9437644a0"
      },
      "execution_count": 22,
      "outputs": [
        {
          "output_type": "execute_result",
          "data": {
            "text/plain": [
              "6"
            ]
          },
          "metadata": {},
          "execution_count": 22
        }
      ]
    },
    {
      "cell_type": "code",
      "source": [
        "def opr(a,b):\n",
        "  return a+b,a-b,a*b,a%b\n",
        "\n",
        "opr(63,9)"
      ],
      "metadata": {
        "colab": {
          "base_uri": "https://localhost:8080/"
        },
        "id": "icSvCs-vMwqY",
        "outputId": "d0209fe6-2fc7-4556-fb02-e95629a46014"
      },
      "execution_count": 23,
      "outputs": [
        {
          "output_type": "execute_result",
          "data": {
            "text/plain": [
              "(72, 54, 567, 0)"
            ]
          },
          "metadata": {},
          "execution_count": 23
        }
      ]
    },
    {
      "cell_type": "code",
      "source": [
        "# default parameter\n",
        "def fun(name=\"Dhawal\"):\n",
        "  print(f\"hello,{name}\")\n",
        "\n",
        "fun()"
      ],
      "metadata": {
        "colab": {
          "base_uri": "https://localhost:8080/"
        },
        "id": "Kw_sleMCOGN_",
        "outputId": "6d03946e-6598-4b90-a399-54d2ed1c5a21"
      },
      "execution_count": 31,
      "outputs": [
        {
          "output_type": "stream",
          "name": "stdout",
          "text": [
            "hello,Dhawal\n"
          ]
        }
      ]
    },
    {
      "cell_type": "code",
      "source": [
        "# keyword and positional arguments\n",
        "# positional\n",
        "def student(name,age):\n",
        "  print(f\"{name} is {age} years old\")\n",
        "\n",
        "\n",
        "student(30,\"Amit\")"
      ],
      "metadata": {
        "colab": {
          "base_uri": "https://localhost:8080/"
        },
        "id": "GBC5NsXWOqkq",
        "outputId": "20228e45-3755-41ac-fcbe-768fec641e68"
      },
      "execution_count": 38,
      "outputs": [
        {
          "output_type": "stream",
          "name": "stdout",
          "text": [
            "30 is Amit years old\n"
          ]
        }
      ]
    },
    {
      "cell_type": "code",
      "source": [
        "student(age=30,name=\"Amit\") # keyword"
      ],
      "metadata": {
        "colab": {
          "base_uri": "https://localhost:8080/"
        },
        "id": "huhK0PeQPwTZ",
        "outputId": "149f0665-e120-49b0-b749-3293869792bd"
      },
      "execution_count": 35,
      "outputs": [
        {
          "output_type": "stream",
          "name": "stdout",
          "text": [
            "Amit is 30 years old\n"
          ]
        }
      ]
    },
    {
      "cell_type": "code",
      "source": [
        "# max number\n",
        "def max_num():\n",
        "  a = int(input(\"enter first number:\"))\n",
        "  b = int(input(\"enter second number:\"))\n",
        "  c = int(input(\"enter third number:\"))\n",
        "  return max(a,b,c)\n",
        "\n",
        "print(max_num())"
      ],
      "metadata": {
        "colab": {
          "base_uri": "https://localhost:8080/"
        },
        "id": "fw-rmiyAQOnp",
        "outputId": "12dc5033-beb5-429d-bf75-1355d7edb900"
      },
      "execution_count": 43,
      "outputs": [
        {
          "output_type": "stream",
          "name": "stdout",
          "text": [
            "enter first number:4\n",
            "enter second number:7\n",
            "enter third number:2\n",
            "7\n"
          ]
        }
      ]
    },
    {
      "cell_type": "code",
      "source": [
        "# write a function to check even odd number\n",
        "def check_even_odd():\n",
        "  num = int(input(\"enter a number \"))\n",
        "  if(num%2==0):\n",
        "    print(\"even\")\n",
        "  else:\n",
        "    print(\"odd\")\n",
        "\n",
        "check_even_odd()\n"
      ],
      "metadata": {
        "colab": {
          "base_uri": "https://localhost:8080/"
        },
        "id": "ieop0uxbQfjp",
        "outputId": "f60697ba-87bb-4467-96c4-5aa0578812f0"
      },
      "execution_count": 46,
      "outputs": [
        {
          "output_type": "stream",
          "name": "stdout",
          "text": [
            "enter a number 9\n",
            "odd\n"
          ]
        }
      ]
    },
    {
      "cell_type": "code",
      "source": [
        "# print multiplication table of a number using function\n",
        "def mult():\n",
        "  n = int(input(\"enter a number\"))\n",
        "  for i in range(1,11):\n",
        "    print(f\"{n}*{i}= {n*i}\")\n",
        "mult()"
      ],
      "metadata": {
        "colab": {
          "base_uri": "https://localhost:8080/"
        },
        "id": "nHKH8b5nTxuK",
        "outputId": "6a661226-873b-4e0e-8e69-ab4c70a474b9"
      },
      "execution_count": 50,
      "outputs": [
        {
          "output_type": "stream",
          "name": "stdout",
          "text": [
            "enter a number7\n",
            "7*1= 7\n",
            "7*2= 14\n",
            "7*3= 21\n",
            "7*4= 28\n",
            "7*5= 35\n",
            "7*6= 42\n",
            "7*7= 49\n",
            "7*8= 56\n",
            "7*9= 63\n",
            "7*10= 70\n"
          ]
        }
      ]
    },
    {
      "cell_type": "code",
      "source": [
        "# write a function to find area of a circle\n",
        "def area(r):\n",
        "  return 3.14*r*r\n",
        "\n",
        "round(area(6),2)"
      ],
      "metadata": {
        "colab": {
          "base_uri": "https://localhost:8080/"
        },
        "id": "oSlbAEwoU94b",
        "outputId": "72409f57-c96f-4945-f392-db7e172ff847"
      },
      "execution_count": 52,
      "outputs": [
        {
          "output_type": "execute_result",
          "data": {
            "text/plain": [
              "113.04"
            ]
          },
          "metadata": {},
          "execution_count": 52
        }
      ]
    },
    {
      "cell_type": "code",
      "source": [
        "# write a function to find the length of a string\n",
        "def strl(s):\n",
        "  return len(s)\n",
        "\n",
        "strl(\"Dhawal\")"
      ],
      "metadata": {
        "colab": {
          "base_uri": "https://localhost:8080/"
        },
        "id": "khkik7hJVCv2",
        "outputId": "b0d42dac-de47-4035-8d8f-72ca7ac6b575"
      },
      "execution_count": 53,
      "outputs": [
        {
          "output_type": "execute_result",
          "data": {
            "text/plain": [
              "6"
            ]
          },
          "metadata": {},
          "execution_count": 53
        }
      ]
    },
    {
      "cell_type": "code",
      "source": [
        "# write a function to check for a prime number\n",
        "def is_prime():\n",
        "  n = int(input(\"enter a number \"))\n",
        "  if(n>2):\n",
        "    return False\n",
        "  for i in range(2,n):\n",
        "    if(n%i==0):\n",
        "      return True\n",
        "    else:\n",
        "      return False\n",
        "is_prime()"
      ],
      "metadata": {
        "colab": {
          "base_uri": "https://localhost:8080/"
        },
        "id": "m1sL-rd1VJb5",
        "outputId": "61fcbd0f-272d-4b4b-8857-a4c019565d83"
      },
      "execution_count": 54,
      "outputs": [
        {
          "name": "stdout",
          "output_type": "stream",
          "text": [
            "enter a number8\n"
          ]
        },
        {
          "output_type": "execute_result",
          "data": {
            "text/plain": [
              "False"
            ]
          },
          "metadata": {},
          "execution_count": 54
        }
      ]
    },
    {
      "cell_type": "code",
      "source": [],
      "metadata": {
        "id": "3WOwncKJYxeF"
      },
      "execution_count": null,
      "outputs": []
    }
  ]
}