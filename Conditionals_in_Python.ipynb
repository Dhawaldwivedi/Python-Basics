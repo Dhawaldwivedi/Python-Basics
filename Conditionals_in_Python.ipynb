{
  "nbformat": 4,
  "nbformat_minor": 0,
  "metadata": {
    "colab": {
      "provenance": [],
      "authorship_tag": "ABX9TyNVwQmk+/k2vgD1CGf5hgo2",
      "include_colab_link": true
    },
    "kernelspec": {
      "name": "python3",
      "display_name": "Python 3"
    },
    "language_info": {
      "name": "python"
    }
  },
  "cells": [
    {
      "cell_type": "markdown",
      "metadata": {
        "id": "view-in-github",
        "colab_type": "text"
      },
      "source": [
        "<a href=\"https://colab.research.google.com/github/Dhawaldwivedi/Python-Basics/blob/main/Conditionals_in_Python.ipynb\" target=\"_parent\"><img src=\"https://colab.research.google.com/assets/colab-badge.svg\" alt=\"Open In Colab\"/></a>"
      ]
    },
    {
      "cell_type": "code",
      "execution_count": 4,
      "metadata": {
        "colab": {
          "base_uri": "https://localhost:8080/"
        },
        "id": "2gNcmqOS2lTk",
        "outputId": "c5777918-da12-4446-c2d8-7dad65f46573"
      },
      "outputs": [
        {
          "output_type": "stream",
          "name": "stdout",
          "text": [
            "eligible to vote\n"
          ]
        }
      ],
      "source": [
        "# if , else , elif\n",
        "age = 20\n",
        "\n",
        "if age>=18:\n",
        "  print('eligible to vote')\n",
        "\n"
      ]
    },
    {
      "cell_type": "code",
      "source": [
        "if True:\n",
        "  print('correct indentation')\n",
        "  if False:\n",
        "    print('if false')\n",
        "  print('this will print')\n",
        "print('print again')"
      ],
      "metadata": {
        "colab": {
          "base_uri": "https://localhost:8080/"
        },
        "id": "yWIpQARy7JCu",
        "outputId": "dac186a6-95a0-45e3-dbee-c94d9296caed"
      },
      "execution_count": 6,
      "outputs": [
        {
          "output_type": "stream",
          "name": "stdout",
          "text": [
            "correct indentation\n",
            "this will print\n",
            "print again\n"
          ]
        }
      ]
    },
    {
      "cell_type": "code",
      "source": [
        "# else\n",
        "age = 33\n",
        "if age>=18:\n",
        "  print('eligible to vote')\n",
        "else:\n",
        "  print('not eligible to vote')"
      ],
      "metadata": {
        "colab": {
          "base_uri": "https://localhost:8080/"
        },
        "id": "pgcf7GAj7y1w",
        "outputId": "793e94ba-2d82-4e74-b04f-7fd878d00d16"
      },
      "execution_count": 9,
      "outputs": [
        {
          "output_type": "stream",
          "name": "stdout",
          "text": [
            "eligible to vote\n"
          ]
        }
      ]
    },
    {
      "cell_type": "code",
      "source": [
        "age = int(input(\"enter your age \"))\n",
        "if age>=18:\n",
        "  print('eligible to vote')\n",
        "else:\n",
        "  print('not eligible to vote')\n"
      ],
      "metadata": {
        "colab": {
          "base_uri": "https://localhost:8080/"
        },
        "id": "VZoEbiqw9A2f",
        "outputId": "f7fb7ebf-7044-4e56-9bbb-67866bfab7f0"
      },
      "execution_count": 12,
      "outputs": [
        {
          "output_type": "stream",
          "name": "stdout",
          "text": [
            "enter your age 33\n",
            "eligible to vote\n"
          ]
        }
      ]
    },
    {
      "cell_type": "code",
      "source": [
        "# check a number is even or odd\n",
        "num = int(input('enter a number '))\n",
        "if num%2==0:\n",
        "  print('even')\n",
        "else:\n",
        "  print('odd')"
      ],
      "metadata": {
        "colab": {
          "base_uri": "https://localhost:8080/"
        },
        "id": "capiRoTW9URn",
        "outputId": "90e356f9-e44d-4785-c10e-f7bca563371f"
      },
      "execution_count": 13,
      "outputs": [
        {
          "output_type": "stream",
          "name": "stdout",
          "text": [
            "enter a number 45\n",
            "odd\n"
          ]
        }
      ]
    },
    {
      "cell_type": "code",
      "source": [
        "6/2"
      ],
      "metadata": {
        "colab": {
          "base_uri": "https://localhost:8080/"
        },
        "id": "r4y_h-0v-SWd",
        "outputId": "f276039d-3db5-4b65-e5cd-ca9736727341"
      },
      "execution_count": 14,
      "outputs": [
        {
          "output_type": "execute_result",
          "data": {
            "text/plain": [
              "3.0"
            ]
          },
          "metadata": {},
          "execution_count": 14
        }
      ]
    },
    {
      "cell_type": "code",
      "source": [
        "6%2"
      ],
      "metadata": {
        "colab": {
          "base_uri": "https://localhost:8080/"
        },
        "id": "DqSu8tB_-aac",
        "outputId": "86e71a55-424a-4ca2-a219-ccddbb5afec3"
      },
      "execution_count": 15,
      "outputs": [
        {
          "output_type": "execute_result",
          "data": {
            "text/plain": [
              "0"
            ]
          },
          "metadata": {},
          "execution_count": 15
        }
      ]
    },
    {
      "cell_type": "code",
      "source": [
        "# elif ( if+else)\n",
        "age = 22\n",
        "if age<13:\n",
        "  print('child')\n",
        "elif age<18:\n",
        "  print('teenager')\n",
        "else:\n",
        "  print('adult')\n"
      ],
      "metadata": {
        "colab": {
          "base_uri": "https://localhost:8080/"
        },
        "id": "yUDFCflH-ci8",
        "outputId": "19592fd6-37ed-459a-d705-26a78e24d1ea"
      },
      "execution_count": 19,
      "outputs": [
        {
          "output_type": "stream",
          "name": "stdout",
          "text": [
            "adult\n"
          ]
        }
      ]
    },
    {
      "cell_type": "code",
      "source": [
        "# nested if else\n",
        "num = int(input('enter a number'))\n",
        "if num>=0:\n",
        "  if num==0:\n",
        "    print('zero')\n",
        "  else:\n",
        "    print('number is positive')\n",
        "\n",
        "else:\n",
        "  print('number is negative')\n"
      ],
      "metadata": {
        "colab": {
          "base_uri": "https://localhost:8080/"
        },
        "id": "nVCXIWxQ_zpy",
        "outputId": "b7fa83d2-fb6b-4ff5-bc5a-1c1bc0f9028f"
      },
      "execution_count": 23,
      "outputs": [
        {
          "output_type": "stream",
          "name": "stdout",
          "text": [
            "enter a number33\n",
            "number is positive\n"
          ]
        }
      ]
    },
    {
      "cell_type": "code",
      "source": [
        "# simple calculator using if else\n",
        "num1 = int(input('enter first number '))\n",
        "num2 = int(input('enter second number '))\n",
        "op = input('enter the operation ')\n",
        "\n",
        "if op== '+':\n",
        "  print(num1+num2)\n",
        "elif op=='-':\n",
        "  print(num1-num2)\n",
        "elif op==\"*\":\n",
        "  print(num1*num2)\n",
        "elif op=='/':\n",
        "  if num2!=0:\n",
        "      print(num1/num2)\n",
        "  else:\n",
        "    print('error zero division')\n",
        "else:\n",
        "  print('invalid operation')\n",
        "\n",
        "\n"
      ],
      "metadata": {
        "colab": {
          "base_uri": "https://localhost:8080/"
        },
        "id": "2mzWQYy1BW8B",
        "outputId": "ffacdbd9-a547-4589-922d-e76f1254f275"
      },
      "execution_count": 26,
      "outputs": [
        {
          "output_type": "stream",
          "name": "stdout",
          "text": [
            "enter first number 33\n",
            "enter second number 22\n",
            "enter the operation &\n",
            "invalid operation\n"
          ]
        }
      ]
    },
    {
      "cell_type": "code",
      "source": [
        "username = \"admin\"\n",
        "password = \"password@123\"\n",
        "\n",
        "user2 = input(\"enter username \")\n",
        "\n",
        "\n",
        "if user2== username:\n",
        "  password2 = input(\"enter password \")\n",
        "  if password2 == password:\n",
        "    print('login success')\n",
        "  else:\n",
        "    print('incorrect password')\n",
        "\n",
        "else:\n",
        "  print('invalid user')"
      ],
      "metadata": {
        "colab": {
          "base_uri": "https://localhost:8080/"
        },
        "id": "Bl18EBhzEBfg",
        "outputId": "2517dac1-f6ed-4a9a-afab-014b4580430c"
      },
      "execution_count": 32,
      "outputs": [
        {
          "output_type": "stream",
          "name": "stdout",
          "text": [
            "enter username add\n",
            "invalid user\n"
          ]
        }
      ]
    },
    {
      "cell_type": "code",
      "source": [
        "# report card grade\n",
        "marks = int(input('enter your marks'))\n",
        "\n",
        "if 90<=marks<=100:\n",
        "  print('grade A+')\n",
        "elif 80<=marks<=89:\n",
        "  print('grade A')\n",
        "elif 70<=marks<=79:\n",
        "  print('grade B')\n",
        "else :\n",
        "   print('grade F')\n",
        ""
      ],
      "metadata": {
        "colab": {
          "base_uri": "https://localhost:8080/"
        },
        "id": "rrTK57NoGvXk",
        "outputId": "b91e0004-0a0e-458a-80af-90698bccce88"
      },
      "execution_count": 34,
      "outputs": [
        {
          "output_type": "stream",
          "name": "stdout",
          "text": [
            "enter your marks66\n",
            "grade F\n"
          ]
        }
      ]
    },
    {
      "cell_type": "code",
      "source": [],
      "metadata": {
        "id": "OChexhi2J_l2"
      },
      "execution_count": null,
      "outputs": []
    }
  ]
}